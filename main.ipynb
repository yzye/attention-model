{
 "cells": [
  {
   "cell_type": "code",
   "execution_count": 1,
   "metadata": {},
   "outputs": [],
   "source": [
    "import numpy as np\n",
    "import tensorflow as tf\n",
    "import jieba\n",
    "import re\n",
    "import itertools\n",
    "from random import shuffle\n",
    "import argparse\n",
    "from collections import Counter"
   ]
  },
  {
   "cell_type": "code",
   "execution_count": 2,
   "metadata": {},
   "outputs": [],
   "source": [
    "def input_doc(filename):\n",
    "    '''\n",
    "    eliminate na or 没有描述\n",
    "    '''\n",
    "    \n",
    "    reviews = []\n",
    "    r = \"[\\s+\\.\\!\\/_,$%^*)(+\\\"\\']+|[+——！，。？、~@#￥%……&*（）]+\"\n",
    "    with open(filename, 'r', encoding = \"utf-8\") as f:\n",
    "        for lines in f:        \n",
    "            if re.sub(r,'',lines) not in [\"na\",\"没有描述\"]:\n",
    "                reviews.append([re.sub(r,'',x) for x in jieba.cut(lines) if len(re.sub(r,'',x))])\n",
    "    return reviews\n",
    "\n",
    "def get_labels(reviews_pos,reviews_neg):\n",
    "    \n",
    "    labels = np.array([1]*len(reviews_pos)+[0]*len(reviews_neg))\n",
    "    labels = labels.reshape([-1,1])\n",
    "    labels = np.hstack((labels,1 - labels))\n",
    "    \n",
    "    return labels\n",
    "\n",
    "def reviews_encode(reviews,min_count):\n",
    "    \n",
    "    words = list(itertools.chain.from_iterable(reviews))\n",
    "    counts = Counter(words)\n",
    "    \n",
    "    counts = {k:v for k, v in counts.items() if v>= min_count}\n",
    "    \n",
    "    vocab = sorted(counts, key=counts.get, reverse=True)\n",
    "    vocab_to_int = {word: ii for ii, word in enumerate(vocab, 1)}\n",
    "    vocab_to_int['<UNK>'] = len(vocab_to_int)+1\n",
    "    \n",
    "    words = [w if w in vocab_to_int else '<UNK>' for w in words]\n",
    "    \n",
    "    reviews_ints = []\n",
    "    for each in reviews:\n",
    "        reviews_ints.append([vocab_to_int[word] if word in vocab_to_int else vocab_to_int['<UNK>'] for word in each])\n",
    "        \n",
    "    return reviews_ints, vocab_to_int"
   ]
  },
  {
   "cell_type": "code",
   "execution_count": 3,
   "metadata": {},
   "outputs": [],
   "source": [
    "def reviews_encode_old(reviews):\n",
    "    \n",
    "    words = list(itertools.chain.from_iterable(reviews))\n",
    "    counts = Counter(words)\n",
    "    vocab = sorted(counts, key=counts.get, reverse=True)\n",
    "    vocab_to_int = {word: ii for ii, word in enumerate(vocab, 1)}\n",
    "    \n",
    "    reviews_ints = []\n",
    "    for each in reviews:\n",
    "        reviews_ints.append([vocab_to_int[word] for word in each])\n",
    "        \n",
    "    return reviews_ints, vocab_to_int"
   ]
  },
  {
   "cell_type": "code",
   "execution_count": 4,
   "metadata": {},
   "outputs": [],
   "source": [
    "def clean_reviews(reviews_ints,labels):\n",
    "    '''\n",
    "    eliminate vacant reviews and shuffle the data\n",
    "    '''\n",
    "    non_zero_idx = [ii for ii, review in enumerate(reviews_ints) if len(review) != 0]\n",
    "    shuffle(non_zero_idx)\n",
    "    reviews_ints = [reviews_ints[ii] for ii in non_zero_idx]\n",
    "    labels = np.array([labels[ii] for ii in non_zero_idx])\n",
    "    \n",
    "    return reviews_ints,labels\n",
    "\n",
    "def padding(reviews_ints,seq_len):\n",
    "    \n",
    "    features = np.zeros((len(reviews_ints), seq_len), dtype=int)\n",
    "    for i, row in enumerate(reviews_ints):\n",
    "        features[i, -len(row):] = np.array(row)[:seq_len]\n",
    "    \n",
    "    return features\n",
    "\n",
    "def split_features(features,labels,split_frac):\n",
    "    \n",
    "    split_idx = int(len(features)*split_frac)\n",
    "\n",
    "    train_x, val_x = features[:split_idx], features[split_idx:]\n",
    "    train_y, val_y = labels[:split_idx], labels[split_idx:]\n",
    "\n",
    "    return train_x, val_x, train_y, val_y"
   ]
  },
  {
   "cell_type": "code",
   "execution_count": 5,
   "metadata": {},
   "outputs": [],
   "source": [
    "def single_cell(num_hidden, keep_prob):\n",
    "    cell = tf.contrib.rnn.GRUCell(num_hidden)\n",
    "    cell = tf.contrib.rnn.DropoutWrapper(cell, output_keep_prob=keep_prob)\n",
    "    return cell\n",
    "\n",
    "def my_attention(inputs, hidden_layer_size):\n",
    "  \n",
    "    X = tf.reshape(inputs, [-1, 2*num_hidden])\n",
    "    Y = tf.layers.dense(X, hidden_layer_size, activation=tf.nn.relu)\n",
    "    logits = tf.layers.dense(Y, 1, activation = None)\n",
    "  \n",
    "    logits = tf.reshape(logits, [-1, seq_len, 1])\n",
    "    alphas = tf.nn.softmax(logits, axis=1)\n",
    "    encoded_sentence = tf.reduce_sum(inputs * alphas, axis=1)\n",
    "\n",
    "    return encoded_sentence, alphas\n",
    "\n",
    "def get_batches(x, y, batch_size=100):\n",
    "    \n",
    "    n_batches = len(x)//batch_size\n",
    "    x, y = x[:n_batches*batch_size], y[:n_batches*batch_size]\n",
    "    for ii in range(0, len(x), batch_size):\n",
    "        yield x[ii:ii+batch_size], y[ii:ii+batch_size]"
   ]
  },
  {
   "cell_type": "code",
   "execution_count": 6,
   "metadata": {},
   "outputs": [],
   "source": [
    "def get_testdata(input_int,labels):\n",
    "    \n",
    "    idx = [ii for ii, review in enumerate(input_int) if len(review) != 0]\n",
    "    output_ints = [input_int[ii] for ii in idx]\n",
    "    output_labels = [labels[ii] for ii in idx]\n",
    "    \n",
    "    return output_ints, output_labels"
   ]
  },
  {
   "cell_type": "code",
   "execution_count": 7,
   "metadata": {},
   "outputs": [],
   "source": [
    "def key_words(inputs, alphas):\n",
    "    \n",
    "    alphas = alphas.flatten()\n",
    "    alphas.shape = (len(inputs),seq_len)\n",
    "\n",
    "    index = [(seq_len-sum(n>0))+np.argmax(a[seq_len-sum(n>0):]) for a,n in zip(alphas,inputs)]\n",
    "    int_words = [sen[i] for i,sen in zip(index,inputs)]\n",
    "\n",
    "    key_words = [[key for key, value in vocab_to_int.items() if value == int_word][0] for int_word in int_words]\n",
    "    \n",
    "    return key_words"
   ]
  },
  {
   "cell_type": "markdown",
   "metadata": {},
   "source": [
    "# Load data"
   ]
  },
  {
   "cell_type": "code",
   "execution_count": 8,
   "metadata": {},
   "outputs": [
    {
     "name": "stderr",
     "output_type": "stream",
     "text": [
      "Building prefix dict from the default dictionary ...\n",
      "Dumping model to file cache /var/folders/ft/4zwv_nls5xv3l5wg33rs896r0000gn/T/jieba.cache\n",
      "Loading model cost 0.800 seconds.\n",
      "Prefix dict has been built succesfully.\n"
     ]
    }
   ],
   "source": [
    "reviews_pos = input_doc(\"data/pos.txt\")\n",
    "reviews_neg = input_doc(\"data/neg.txt\")\n",
    "\n",
    "reviews = reviews_pos + reviews_neg\n",
    "labels = get_labels(reviews_pos,reviews_neg)"
   ]
  },
  {
   "cell_type": "markdown",
   "metadata": {},
   "source": [
    "# Encoding the words"
   ]
  },
  {
   "cell_type": "code",
   "execution_count": 9,
   "metadata": {},
   "outputs": [],
   "source": [
    "min_count=50\n",
    "reviews_ints,vocab_to_int = reviews_encode(reviews,min_count)\n",
    "\n",
    "# Generate test_data\n",
    "test_ints, test_y = get_testdata(reviews_ints,labels)\n",
    "\n",
    "reviews_ints,labels = clean_reviews(reviews_ints,labels)\n",
    "    \n",
    "seq_len = 80\n",
    "features = padding(reviews_ints,seq_len)\n",
    "test_x = padding(test_ints,seq_len)\n",
    "\n",
    "split_frac = 0.8\n",
    "train_x, val_x, train_y, val_y = split_features(features,labels,split_frac)\n",
    "    \n",
    "n_words = len(vocab_to_int) + 1 # Adding 1 because we use 0's for padding, dictionary started at 1"
   ]
  },
  {
   "cell_type": "markdown",
   "metadata": {},
   "source": [
    "# graph definition"
   ]
  },
  {
   "cell_type": "code",
   "execution_count": 10,
   "metadata": {},
   "outputs": [],
   "source": [
    "train_graph = tf.Graph()\n",
    "with train_graph.as_default():\n",
    "    # Training Parameters\n",
    "    learning_rate = 0.001\n",
    "    epochs = 2\n",
    "    batch_size = 64\n",
    "    display_step = 200\n",
    "\n",
    "    # Network Parameters\n",
    "    embed_size = 300\n",
    "    num_hidden = 50 # hidden layer num of features\n",
    "    num_classes = 2\n",
    "    att_hidden = 32\n",
    "    \n",
    "    # tf Graph input\n",
    "    inputs_ = tf.placeholder(tf.int32, [None, seq_len], name=\"input\")\n",
    "    labels_ = tf.placeholder(tf.int32, [None, num_classes], name=\"labels\")\n",
    "    keep_prob = tf.placeholder(tf.float32, name='keep_prob')\n",
    "\n",
    "    embedding = tf.Variable(tf.random_uniform([n_words, embed_size]))\n",
    "    embed = tf.nn.embedding_lookup(embedding, inputs_)\n",
    "\n",
    "    rnn_fw_cell = single_cell(num_hidden, keep_prob)\n",
    "    rnn_bw_cell = single_cell(num_hidden, keep_prob)\n",
    "\n",
    "    outputs, _ = tf.nn.bidirectional_dynamic_rnn(rnn_fw_cell, rnn_bw_cell, embed, dtype=tf.float32)\n",
    "    outputs = tf.concat(outputs, axis = 2)\n",
    "\n",
    "    encoded, alphas = my_attention(outputs, att_hidden)\n",
    "\n",
    "    logits = tf.layers.dense(encoded, 2, activation=None)\n",
    "    prediction = tf.nn.softmax(logits)"
   ]
  },
  {
   "cell_type": "code",
   "execution_count": 11,
   "metadata": {},
   "outputs": [],
   "source": [
    "with train_graph.as_default():\n",
    "\n",
    "    # Define loss and optimizer\n",
    "    loss_op = tf.reduce_mean(tf.nn.softmax_cross_entropy_with_logits_v2(\n",
    "            logits=logits, labels=labels_))\n",
    "    optimizer = tf.train.AdamOptimizer(learning_rate)\n",
    "    train_op = optimizer.minimize(loss_op)\n",
    "\n",
    "    # Evaluate model (with test logits, for dropout to be disabled)\n",
    "    correct_pred = tf.equal(tf.argmax(prediction, 1), tf.argmax(labels_, 1))\n",
    "    accuracy = tf.reduce_mean(tf.cast(correct_pred, tf.float32))\n",
    "\n",
    "    # Initialize the variables (i.e. assign their default value)\n",
    "    init = tf.global_variables_initializer()\n",
    "\n",
    "    saver = tf.train.Saver()    "
   ]
  },
  {
   "cell_type": "markdown",
   "metadata": {},
   "source": [
    "# train the data and make predictions"
   ]
  },
  {
   "cell_type": "code",
   "execution_count": null,
   "metadata": {},
   "outputs": [
    {
     "name": "stdout",
     "output_type": "stream",
     "text": [
      "Step 1, Minibatch Loss= 0.6417, Training Accuracy= 0.656 , Testing Accuracy= 0.6646\n",
      "Step 200, Minibatch Loss= 0.1584, Training Accuracy= 0.969 , Testing Accuracy= 0.8642\n",
      "Step 400, Minibatch Loss= 0.2426, Training Accuracy= 0.922 , Testing Accuracy= 0.8778\n",
      "Step 600, Minibatch Loss= 0.5828, Training Accuracy= 0.750 , Testing Accuracy= 0.8744\n",
      "Step 800, Minibatch Loss= 0.3556, Training Accuracy= 0.859 , Testing Accuracy= 0.8814\n",
      "Step 1000, Minibatch Loss= 0.2700, Training Accuracy= 0.891 , Testing Accuracy= 0.8854\n",
      "Step 1200, Minibatch Loss= 0.2517, Training Accuracy= 0.906 , Testing Accuracy= 0.8896\n",
      "Step 1400, Minibatch Loss= 0.4811, Training Accuracy= 0.844 , Testing Accuracy= 0.8884\n",
      "Step 1600, Minibatch Loss= 0.2707, Training Accuracy= 0.906 , Testing Accuracy= 0.8912\n",
      "Step 1800, Minibatch Loss= 0.2249, Training Accuracy= 0.906 , Testing Accuracy= 0.889\n",
      "Step 2000, Minibatch Loss= 0.2394, Training Accuracy= 0.922 , Testing Accuracy= 0.8896\n",
      "Step 2200, Minibatch Loss= 0.2361, Training Accuracy= 0.906 , Testing Accuracy= 0.8898\n",
      "Step 2400, Minibatch Loss= 0.2718, Training Accuracy= 0.906 , Testing Accuracy= 0.8912\n",
      "Step 2600, Minibatch Loss= 0.2484, Training Accuracy= 0.906 , Testing Accuracy= 0.89\n",
      "Step 2800, Minibatch Loss= 0.2137, Training Accuracy= 0.922 , Testing Accuracy= 0.891\n",
      "Step 3000, Minibatch Loss= 0.2903, Training Accuracy= 0.922 , Testing Accuracy= 0.8916\n",
      "Step 3200, Minibatch Loss= 0.2911, Training Accuracy= 0.859 , Testing Accuracy= 0.8868\n",
      "Step 3400, Minibatch Loss= 0.1757, Training Accuracy= 0.938 , Testing Accuracy= 0.8938\n",
      "Step 3600, Minibatch Loss= 0.1758, Training Accuracy= 0.938 , Testing Accuracy= 0.8954\n",
      "Step 3800, Minibatch Loss= 0.2170, Training Accuracy= 0.906 , Testing Accuracy= 0.8926\n",
      "Step 4000, Minibatch Loss= 0.2969, Training Accuracy= 0.906 , Testing Accuracy= 0.8908\n",
      "Step 4200, Minibatch Loss= 0.2072, Training Accuracy= 0.906 , Testing Accuracy= 0.8924\n",
      "Step 4400, Minibatch Loss= 0.1808, Training Accuracy= 0.938 , Testing Accuracy= 0.8916\n",
      "Step 4600, Minibatch Loss= 0.1725, Training Accuracy= 0.953 , Testing Accuracy= 0.892\n",
      "Step 4800, Minibatch Loss= 0.1644, Training Accuracy= 0.922 , Testing Accuracy= 0.8892\n"
     ]
    }
   ],
   "source": [
    "with tf.Session(graph=train_graph) as sess:\n",
    "\n",
    "    # Run the initializer\n",
    "    sess.run(init)\n",
    "    step = 0\n",
    "    for epoch in range(epochs):\n",
    "        for batch_x, batch_y in get_batches(train_x, train_y, batch_size):\n",
    "            step += 1\n",
    "            # Run optimization op (backprop)\n",
    "            sess.run(train_op, feed_dict={inputs_: batch_x, labels_: batch_y, keep_prob: 0.8})\n",
    "            if step % display_step == 0 or step == 1:\n",
    "                loss, acc, a = sess.run([loss_op, accuracy, alphas], feed_dict={inputs_: batch_x,\n",
    "                                                                    labels_: batch_y,\n",
    "                                                                    keep_prob: 0.8})\n",
    "                print(\"Step \" + str(step) + \", Minibatch Loss= \" + \\\n",
    "                    \"{:.4f}\".format(loss) + \", Training Accuracy= \" + \\\n",
    "                    \"{:.3f}\".format(acc), \", Testing Accuracy=\", \\\n",
    "                    sess.run(accuracy, feed_dict={inputs_: val_x[:5000,:], labels_: val_y[:5000,:], keep_prob:1}))\n",
    "        \n",
    "    prediction_step = 0\n",
    "    for batch_x, batch_y in get_batches(test_x, test_y, batch_size):\n",
    "        pred, a = sess.run([prediction, alphas], feed_dict={inputs_: batch_x,\n",
    "                                                                    labels_: batch_y,\n",
    "                                                                    keep_prob: 1})\n",
    "        key = key_words(batch_x,a)\n",
    "        prediction_step += 1\n",
    "        if prediction_step % display_step ==0 :print(\"Step:\" + str(prediction_step))\n",
    "        with open(\"output0.txt\",\"a\") as output:\n",
    "            for p,k in zip(pred,key):\n",
    "                label_pred = (\"positive\",\"negative\")[np.argmax(p)]\n",
    "                output.write('\\n'+label_pred+'\\t'+k)# Run the initializer\n",
    "\n",
    "    print(\"Prediction Finished!\")\n",
    "    saver.save(sess, \"checkpoints/sentiment.ckpt\")"
   ]
  },
  {
   "cell_type": "code",
   "execution_count": null,
   "metadata": {
    "collapsed": true
   },
   "outputs": [],
   "source": [
    "tf.reset_default_graph()"
   ]
  }
 ],
 "metadata": {
  "kernelspec": {
   "display_name": "Python 3",
   "language": "python",
   "name": "python3"
  },
  "language_info": {
   "codemirror_mode": {
    "name": "ipython",
    "version": 3
   },
   "file_extension": ".py",
   "mimetype": "text/x-python",
   "name": "python",
   "nbconvert_exporter": "python",
   "pygments_lexer": "ipython3",
   "version": "3.6.8"
  }
 },
 "nbformat": 4,
 "nbformat_minor": 2
}
