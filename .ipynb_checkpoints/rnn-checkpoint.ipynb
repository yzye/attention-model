{
 "cells": [
  {
   "cell_type": "code",
   "execution_count": 1,
   "metadata": {},
   "outputs": [
    {
     "ename": "ImportError",
     "evalue": "No module named jieba",
     "output_type": "error",
     "traceback": [
      "\u001b[0;31m---------------------------------------------------------------------------\u001b[0m",
      "\u001b[0;31mImportError\u001b[0m                               Traceback (most recent call last)",
      "\u001b[0;32m<ipython-input-1-cf425d52ba5c>\u001b[0m in \u001b[0;36m<module>\u001b[0;34m()\u001b[0m\n\u001b[1;32m      1\u001b[0m \u001b[0;32mimport\u001b[0m \u001b[0mnumpy\u001b[0m \u001b[0;32mas\u001b[0m \u001b[0mnp\u001b[0m\u001b[0;34m\u001b[0m\u001b[0m\n\u001b[1;32m      2\u001b[0m \u001b[0;32mimport\u001b[0m \u001b[0mtensorflow\u001b[0m \u001b[0;32mas\u001b[0m \u001b[0mtf\u001b[0m\u001b[0;34m\u001b[0m\u001b[0m\n\u001b[0;32m----> 3\u001b[0;31m \u001b[0;32mimport\u001b[0m \u001b[0mjieba\u001b[0m\u001b[0;34m\u001b[0m\u001b[0m\n\u001b[0m\u001b[1;32m      4\u001b[0m \u001b[0;32mimport\u001b[0m \u001b[0mre\u001b[0m\u001b[0;34m\u001b[0m\u001b[0m\n\u001b[1;32m      5\u001b[0m \u001b[0;32mimport\u001b[0m \u001b[0mitertools\u001b[0m\u001b[0;34m\u001b[0m\u001b[0m\n",
      "\u001b[0;31mImportError\u001b[0m: No module named jieba"
     ]
    }
   ],
   "source": [
    "import numpy as np\n",
    "import tensorflow as tf\n",
    "import jieba\n",
    "import re\n",
    "import itertools\n",
    "from random import shuffle\n",
    "import argparse\n",
    "from collections import Counter"
   ]
  },
  {
   "cell_type": "code",
   "execution_count": 6,
   "metadata": {},
   "outputs": [],
   "source": [
    "def input_doc(filename):\n",
    "    '''\n",
    "    eliminate na or 没有描述\n",
    "    '''\n",
    "    \n",
    "    reviews = []\n",
    "    r = \"[\\s+\\.\\!\\/_,$%^*)(+\\\"\\']+|[+——！，。？、~@#￥%……&*（）]+\"\n",
    "    with open(filename, 'r', encoding = \"utf-8\") as f:\n",
    "        for lines in f:        \n",
    "            if re.sub(r,'',lines) not in [\"na\",\"没有描述\"]:\n",
    "                reviews.append([re.sub(r,'',x) for x in jieba.cut(lines) if len(re.sub(r,'',x))])\n",
    "    return reviews\n",
    "\n",
    "def get_labels(reviews_pos,reviews_neg):\n",
    "    \n",
    "    labels = np.array([1]*len(reviews_pos)+[0]*len(reviews_neg))\n",
    "    labels = labels.reshape([-1,1])\n",
    "    labels = np.hstack((labels,1 - labels))\n",
    "    \n",
    "    return labels\n",
    "\n",
    "def reviews_encode(reviews,min_count):\n",
    "    \n",
    "    words = list(itertools.chain.from_iterable(reviews))\n",
    "    counts = Counter(words)\n",
    "    \n",
    "    counts = {k:v for k, v in counts.items() if v>= min_count}\n",
    "    \n",
    "    vocab = sorted(counts, key=counts.get, reverse=True)\n",
    "    vocab_to_int = {word: ii for ii, word in enumerate(vocab, 1)}\n",
    "    vocab_to_int['<UNK>'] = len(vocab_to_int)+1\n",
    "    \n",
    "    words = [w if w in vocab_to_int else '<UNK>' for w in words]\n",
    "    \n",
    "    reviews_ints = []\n",
    "    for each in reviews:\n",
    "        reviews_ints.append([vocab_to_int[word] if word in vocab_to_int else vocab_to_int['<UNK>'] for word in each])\n",
    "        \n",
    "    return reviews_ints, vocab_to_int"
   ]
  },
  {
   "cell_type": "code",
   "execution_count": null,
   "metadata": {},
   "outputs": [],
   "source": [
    "def reviews_encode_old(reviews):\n",
    "    \n",
    "    words = list(itertools.chain.from_iterable(reviews))\n",
    "    counts = Counter(words)\n",
    "    vocab = sorted(counts, key=counts.get, reverse=True)\n",
    "    vocab_to_int = {word: ii for ii, word in enumerate(vocab, 1)}\n",
    "    \n",
    "    reviews_ints = []\n",
    "    for each in reviews:\n",
    "        reviews_ints.append([vocab_to_int[word] for word in each])\n",
    "        \n",
    "    return reviews_ints, vocab_to_int"
   ]
  },
  {
   "cell_type": "code",
   "execution_count": null,
   "metadata": {},
   "outputs": [],
   "source": [
    "def clean_reviews(reviews_ints,labels):\n",
    "    '''\n",
    "    eliminate vacant reviews and shuffle the data\n",
    "    '''\n",
    "    non_zero_idx = [ii for ii, review in enumerate(reviews_ints) if len(review) != 0]\n",
    "    shuffle(non_zero_idx)\n",
    "    reviews_ints = [reviews_ints[ii] for ii in non_zero_idx]\n",
    "    labels = np.array([labels[ii] for ii in non_zero_idx])\n",
    "    \n",
    "    return reviews_ints,labels\n",
    "\n",
    "def padding(reviews_ints,seq_len):\n",
    "    \n",
    "    features = np.zeros((len(reviews_ints), seq_len), dtype=int)\n",
    "    for i, row in enumerate(reviews_ints):\n",
    "        features[i, -len(row):] = np.array(row)[:seq_len]\n",
    "    \n",
    "    return features\n",
    "\n",
    "def split_features(features,labels,split_frac):\n",
    "    \n",
    "    split_idx = int(len(features)*split_frac)\n",
    "\n",
    "    train_x, val_x = features[:split_idx], features[split_idx:]\n",
    "    train_y, val_y = labels[:split_idx], labels[split_idx:]\n",
    "\n",
    "    return train_x, val_x, train_y, val_y"
   ]
  },
  {
   "cell_type": "code",
   "execution_count": 2,
   "metadata": {},
   "outputs": [],
   "source": [
    "def single_cell(num_hidden, keep_prob):\n",
    "    cell = tf.contrib.rnn.GRUCell(num_hidden)\n",
    "    cell = tf.contrib.rnn.DropoutWrapper(cell, output_keep_prob=keep_prob)\n",
    "    return cell\n",
    "\n",
    "def my_attention(inputs, hidden_layer_size):\n",
    "  \n",
    "    X = tf.reshape(inputs, [-1, 2*num_hidden])\n",
    "    Y = tf.layers.dense(X, hidden_layer_size, activation=tf.nn.relu)\n",
    "    logits = tf.layers.dense(Y, 1, activation = None)\n",
    "  \n",
    "    logits = tf.reshape(logits, [-1, seq_len, 1])\n",
    "    alphas = tf.nn.softmax(logits, axis=1)\n",
    "    encoded_sentence = tf.reduce_sum(inputs * alphas, axis=1)\n",
    "\n",
    "    return encoded_sentence, alphas\n",
    "\n",
    "def get_batches(x, y, batch_size=100):\n",
    "    \n",
    "    n_batches = len(x)//batch_size\n",
    "    x, y = x[:n_batches*batch_size], y[:n_batches*batch_size]\n",
    "    for ii in range(0, len(x), batch_size):\n",
    "        yield x[ii:ii+batch_size], y[ii:ii+batch_size]"
   ]
  },
  {
   "cell_type": "code",
   "execution_count": 3,
   "metadata": {},
   "outputs": [],
   "source": [
    "def get_testdata(input_int,labels):\n",
    "    \n",
    "    idx = [ii for ii, review in enumerate(input_int) if len(review) != 0]\n",
    "    output_ints = [input_int[ii] for ii in idx]\n",
    "    output_labels = [labels[ii] for ii in idx]\n",
    "    \n",
    "    return output_ints, output_labels"
   ]
  },
  {
   "cell_type": "code",
   "execution_count": 4,
   "metadata": {},
   "outputs": [],
   "source": [
    "def key_words(inputs, alphas):\n",
    "    \n",
    "    alphas = alphas.flatten()\n",
    "    alphas.shape = (len(inputs),seq_len)\n",
    "\n",
    "    index = [(seq_len-sum(n>0))+np.argmax(a[seq_len-sum(n>0):]) for a,n in zip(alphas,inputs)]\n",
    "    int_words = [sen[i] for i,sen in zip(index,inputs)]\n",
    "\n",
    "    key_words = [[key for key, value in vocab_to_int.items() if value == int_word][0] for int_word in int_words]\n",
    "    \n",
    "    return key_words"
   ]
  },
  {
   "cell_type": "markdown",
   "metadata": {},
   "source": [
    "# Load data"
   ]
  },
  {
   "cell_type": "code",
   "execution_count": 5,
   "metadata": {},
   "outputs": [
    {
     "ename": "NameError",
     "evalue": "name 'input_doc' is not defined",
     "output_type": "error",
     "traceback": [
      "\u001b[0;31m---------------------------------------------------------------------------\u001b[0m",
      "\u001b[0;31mNameError\u001b[0m                                 Traceback (most recent call last)",
      "\u001b[0;32m<ipython-input-5-dd4657a037a5>\u001b[0m in \u001b[0;36m<module>\u001b[0;34m()\u001b[0m\n\u001b[0;32m----> 1\u001b[0;31m \u001b[0mreviews_pos\u001b[0m \u001b[0;34m=\u001b[0m \u001b[0minput_doc\u001b[0m\u001b[0;34m(\u001b[0m\u001b[0;34m\"data/pos.txt\"\u001b[0m\u001b[0;34m)\u001b[0m\u001b[0;34m\u001b[0m\u001b[0m\n\u001b[0m\u001b[1;32m      2\u001b[0m \u001b[0mreviews_neg\u001b[0m \u001b[0;34m=\u001b[0m \u001b[0minput_doc\u001b[0m\u001b[0;34m(\u001b[0m\u001b[0;34m\"data/neg.txt\"\u001b[0m\u001b[0;34m)\u001b[0m\u001b[0;34m\u001b[0m\u001b[0m\n\u001b[1;32m      3\u001b[0m \u001b[0;34m\u001b[0m\u001b[0m\n\u001b[1;32m      4\u001b[0m \u001b[0mreviews\u001b[0m \u001b[0;34m=\u001b[0m \u001b[0mreviews_pos\u001b[0m \u001b[0;34m+\u001b[0m \u001b[0mreviews_neg\u001b[0m\u001b[0;34m\u001b[0m\u001b[0m\n\u001b[1;32m      5\u001b[0m \u001b[0mlabels\u001b[0m \u001b[0;34m=\u001b[0m \u001b[0mget_labels\u001b[0m\u001b[0;34m(\u001b[0m\u001b[0mreviews_pos\u001b[0m\u001b[0;34m,\u001b[0m\u001b[0mreviews_neg\u001b[0m\u001b[0;34m)\u001b[0m\u001b[0;34m\u001b[0m\u001b[0m\n",
      "\u001b[0;31mNameError\u001b[0m: name 'input_doc' is not defined"
     ]
    }
   ],
   "source": [
    "reviews_pos = input_doc(\"data/pos.txt\")\n",
    "reviews_neg = input_doc(\"data/neg.txt\")\n",
    "\n",
    "reviews = reviews_pos + reviews_neg\n",
    "labels = get_labels(reviews_pos,reviews_neg)"
   ]
  },
  {
   "cell_type": "markdown",
   "metadata": {},
   "source": [
    "# Encoding the words"
   ]
  },
  {
   "cell_type": "code",
   "execution_count": 9,
   "metadata": {
    "collapsed": true
   },
   "outputs": [],
   "source": [
    "min_count=50\n",
    "reviews_ints,vocab_to_int = reviews_encode(reviews,min_count)\n",
    "\n",
    "# Generate test_data\n",
    "test_ints, test_y = get_testdata(reviews_ints,labels)\n",
    "\n",
    "reviews_ints,labels = clean_reviews(reviews_ints,labels)\n",
    "    \n",
    "seq_len = 80\n",
    "features = padding(reviews_ints,seq_len)\n",
    "test_x = padding(test_ints,seq_len)\n",
    "\n",
    "split_frac = 0.8\n",
    "train_x, val_x, train_y, val_y = split_features(features,labels,split_frac)\n",
    "    \n",
    "n_words = len(vocab_to_int) + 1 # Adding 1 because we use 0's for padding, dictionary started at 1"
   ]
  },
  {
   "cell_type": "markdown",
   "metadata": {},
   "source": [
    "# graph definition"
   ]
  },
  {
   "cell_type": "code",
   "execution_count": 10,
   "metadata": {
    "collapsed": true
   },
   "outputs": [],
   "source": [
    "train_graph = tf.Graph()\n",
    "with train_graph.as_default():\n",
    "    # Training Parameters\n",
    "    learning_rate = 0.001\n",
    "    epochs = 2\n",
    "    batch_size = 64\n",
    "    display_step = 200\n",
    "\n",
    "    # Network Parameters\n",
    "    embed_size = 300\n",
    "    num_hidden = 50 # hidden layer num of features\n",
    "    num_classes = 2\n",
    "    att_hidden = 32\n",
    "    \n",
    "    # tf Graph input\n",
    "    inputs_ = tf.placeholder(tf.int32, [None, seq_len], name=\"input\")\n",
    "    labels_ = tf.placeholder(tf.int32, [None, num_classes], name=\"labels\")\n",
    "    keep_prob = tf.placeholder(tf.float32, name='keep_prob')\n",
    "\n",
    "    embedding = tf.Variable(tf.random_uniform([n_words, embed_size]))\n",
    "    embed = tf.nn.embedding_lookup(embedding, inputs_)\n",
    "\n",
    "    rnn_fw_cell = single_cell(num_hidden, keep_prob)\n",
    "    rnn_bw_cell = single_cell(num_hidden, keep_prob)\n",
    "\n",
    "    outputs, _ = tf.nn.bidirectional_dynamic_rnn(rnn_fw_cell, rnn_bw_cell, embed, dtype=tf.float32)\n",
    "    outputs = tf.concat(outputs, axis = 2)\n",
    "\n",
    "    encoded, alphas = my_attention(outputs, att_hidden)\n",
    "\n",
    "    logits = tf.layers.dense(encoded, 2, activation=None)\n",
    "    prediction = tf.nn.softmax(logits)"
   ]
  },
  {
   "cell_type": "code",
   "execution_count": 11,
   "metadata": {
    "collapsed": true
   },
   "outputs": [],
   "source": [
    "with train_graph.as_default():\n",
    "\n",
    "    # Define loss and optimizer\n",
    "    loss_op = tf.reduce_mean(tf.nn.softmax_cross_entropy_with_logits_v2(\n",
    "            logits=logits, labels=labels_))\n",
    "    optimizer = tf.train.AdamOptimizer(learning_rate)\n",
    "    train_op = optimizer.minimize(loss_op)\n",
    "\n",
    "    # Evaluate model (with test logits, for dropout to be disabled)\n",
    "    correct_pred = tf.equal(tf.argmax(prediction, 1), tf.argmax(labels_, 1))\n",
    "    accuracy = tf.reduce_mean(tf.cast(correct_pred, tf.float32))\n",
    "\n",
    "    # Initialize the variables (i.e. assign their default value)\n",
    "    init = tf.global_variables_initializer()\n",
    "\n",
    "    saver = tf.train.Saver()    "
   ]
  },
  {
   "cell_type": "markdown",
   "metadata": {},
   "source": [
    "# train the data and make predictions"
   ]
  },
  {
   "cell_type": "code",
   "execution_count": 13,
   "metadata": {},
   "outputs": [
    {
     "name": "stdout",
     "output_type": "stream",
     "text": [
      "Step 1, Minibatch Loss= 0.9047, Training Accuracy= 0.672 , Testing Accuracy= 0.6744\n",
      "Step 200, Minibatch Loss= 0.3039, Training Accuracy= 0.906 , Testing Accuracy= 0.858\n",
      "Step:200\n",
      "Step:400\n",
      "Step:600\n",
      "Step:800\n"
     ]
    },
    {
     "ename": "KeyboardInterrupt",
     "evalue": "",
     "output_type": "error",
     "traceback": [
      "\u001b[1;31m---------------------------------------------------------------------------\u001b[0m",
      "\u001b[1;31mKeyboardInterrupt\u001b[0m                         Traceback (most recent call last)",
      "\u001b[1;32m<ipython-input-13-01e867b73f4b>\u001b[0m in \u001b[0;36m<module>\u001b[1;34m()\u001b[0m\n\u001b[0;32m     19\u001b[0m         pred, a = sess.run([prediction, alphas], feed_dict={inputs_: batch_x,\n\u001b[0;32m     20\u001b[0m                                                                     \u001b[0mlabels_\u001b[0m\u001b[1;33m:\u001b[0m \u001b[0mbatch_y\u001b[0m\u001b[1;33m,\u001b[0m\u001b[1;33m\u001b[0m\u001b[0m\n\u001b[1;32m---> 21\u001b[1;33m                                                                     keep_prob: 1})\n\u001b[0m\u001b[0;32m     22\u001b[0m         \u001b[0mkey\u001b[0m \u001b[1;33m=\u001b[0m \u001b[0mkey_words\u001b[0m\u001b[1;33m(\u001b[0m\u001b[0mbatch_x\u001b[0m\u001b[1;33m,\u001b[0m\u001b[0ma\u001b[0m\u001b[1;33m)\u001b[0m\u001b[1;33m\u001b[0m\u001b[0m\n\u001b[0;32m     23\u001b[0m         \u001b[0mprediction_step\u001b[0m \u001b[1;33m+=\u001b[0m \u001b[1;36m1\u001b[0m\u001b[1;33m\u001b[0m\u001b[0m\n",
      "\u001b[1;32mE:\\ProgramFiles\\Anaconda\\lib\\site-packages\\tensorflow\\python\\client\\session.py\u001b[0m in \u001b[0;36mrun\u001b[1;34m(self, fetches, feed_dict, options, run_metadata)\u001b[0m\n\u001b[0;32m    903\u001b[0m     \u001b[1;32mtry\u001b[0m\u001b[1;33m:\u001b[0m\u001b[1;33m\u001b[0m\u001b[0m\n\u001b[0;32m    904\u001b[0m       result = self._run(None, fetches, feed_dict, options_ptr,\n\u001b[1;32m--> 905\u001b[1;33m                          run_metadata_ptr)\n\u001b[0m\u001b[0;32m    906\u001b[0m       \u001b[1;32mif\u001b[0m \u001b[0mrun_metadata\u001b[0m\u001b[1;33m:\u001b[0m\u001b[1;33m\u001b[0m\u001b[0m\n\u001b[0;32m    907\u001b[0m         \u001b[0mproto_data\u001b[0m \u001b[1;33m=\u001b[0m \u001b[0mtf_session\u001b[0m\u001b[1;33m.\u001b[0m\u001b[0mTF_GetBuffer\u001b[0m\u001b[1;33m(\u001b[0m\u001b[0mrun_metadata_ptr\u001b[0m\u001b[1;33m)\u001b[0m\u001b[1;33m\u001b[0m\u001b[0m\n",
      "\u001b[1;32mE:\\ProgramFiles\\Anaconda\\lib\\site-packages\\tensorflow\\python\\client\\session.py\u001b[0m in \u001b[0;36m_run\u001b[1;34m(self, handle, fetches, feed_dict, options, run_metadata)\u001b[0m\n\u001b[0;32m   1135\u001b[0m     \u001b[1;32mif\u001b[0m \u001b[0mfinal_fetches\u001b[0m \u001b[1;32mor\u001b[0m \u001b[0mfinal_targets\u001b[0m \u001b[1;32mor\u001b[0m \u001b[1;33m(\u001b[0m\u001b[0mhandle\u001b[0m \u001b[1;32mand\u001b[0m \u001b[0mfeed_dict_tensor\u001b[0m\u001b[1;33m)\u001b[0m\u001b[1;33m:\u001b[0m\u001b[1;33m\u001b[0m\u001b[0m\n\u001b[0;32m   1136\u001b[0m       results = self._do_run(handle, final_targets, final_fetches,\n\u001b[1;32m-> 1137\u001b[1;33m                              feed_dict_tensor, options, run_metadata)\n\u001b[0m\u001b[0;32m   1138\u001b[0m     \u001b[1;32melse\u001b[0m\u001b[1;33m:\u001b[0m\u001b[1;33m\u001b[0m\u001b[0m\n\u001b[0;32m   1139\u001b[0m       \u001b[0mresults\u001b[0m \u001b[1;33m=\u001b[0m \u001b[1;33m[\u001b[0m\u001b[1;33m]\u001b[0m\u001b[1;33m\u001b[0m\u001b[0m\n",
      "\u001b[1;32mE:\\ProgramFiles\\Anaconda\\lib\\site-packages\\tensorflow\\python\\client\\session.py\u001b[0m in \u001b[0;36m_do_run\u001b[1;34m(self, handle, target_list, fetch_list, feed_dict, options, run_metadata)\u001b[0m\n\u001b[0;32m   1353\u001b[0m     \u001b[1;32mif\u001b[0m \u001b[0mhandle\u001b[0m \u001b[1;32mis\u001b[0m \u001b[1;32mNone\u001b[0m\u001b[1;33m:\u001b[0m\u001b[1;33m\u001b[0m\u001b[0m\n\u001b[0;32m   1354\u001b[0m       return self._do_call(_run_fn, self._session, feeds, fetches, targets,\n\u001b[1;32m-> 1355\u001b[1;33m                            options, run_metadata)\n\u001b[0m\u001b[0;32m   1356\u001b[0m     \u001b[1;32melse\u001b[0m\u001b[1;33m:\u001b[0m\u001b[1;33m\u001b[0m\u001b[0m\n\u001b[0;32m   1357\u001b[0m       \u001b[1;32mreturn\u001b[0m \u001b[0mself\u001b[0m\u001b[1;33m.\u001b[0m\u001b[0m_do_call\u001b[0m\u001b[1;33m(\u001b[0m\u001b[0m_prun_fn\u001b[0m\u001b[1;33m,\u001b[0m \u001b[0mself\u001b[0m\u001b[1;33m.\u001b[0m\u001b[0m_session\u001b[0m\u001b[1;33m,\u001b[0m \u001b[0mhandle\u001b[0m\u001b[1;33m,\u001b[0m \u001b[0mfeeds\u001b[0m\u001b[1;33m,\u001b[0m \u001b[0mfetches\u001b[0m\u001b[1;33m)\u001b[0m\u001b[1;33m\u001b[0m\u001b[0m\n",
      "\u001b[1;32mE:\\ProgramFiles\\Anaconda\\lib\\site-packages\\tensorflow\\python\\client\\session.py\u001b[0m in \u001b[0;36m_do_call\u001b[1;34m(self, fn, *args)\u001b[0m\n\u001b[0;32m   1359\u001b[0m   \u001b[1;32mdef\u001b[0m \u001b[0m_do_call\u001b[0m\u001b[1;33m(\u001b[0m\u001b[0mself\u001b[0m\u001b[1;33m,\u001b[0m \u001b[0mfn\u001b[0m\u001b[1;33m,\u001b[0m \u001b[1;33m*\u001b[0m\u001b[0margs\u001b[0m\u001b[1;33m)\u001b[0m\u001b[1;33m:\u001b[0m\u001b[1;33m\u001b[0m\u001b[0m\n\u001b[0;32m   1360\u001b[0m     \u001b[1;32mtry\u001b[0m\u001b[1;33m:\u001b[0m\u001b[1;33m\u001b[0m\u001b[0m\n\u001b[1;32m-> 1361\u001b[1;33m       \u001b[1;32mreturn\u001b[0m \u001b[0mfn\u001b[0m\u001b[1;33m(\u001b[0m\u001b[1;33m*\u001b[0m\u001b[0margs\u001b[0m\u001b[1;33m)\u001b[0m\u001b[1;33m\u001b[0m\u001b[0m\n\u001b[0m\u001b[0;32m   1362\u001b[0m     \u001b[1;32mexcept\u001b[0m \u001b[0merrors\u001b[0m\u001b[1;33m.\u001b[0m\u001b[0mOpError\u001b[0m \u001b[1;32mas\u001b[0m \u001b[0me\u001b[0m\u001b[1;33m:\u001b[0m\u001b[1;33m\u001b[0m\u001b[0m\n\u001b[0;32m   1363\u001b[0m       \u001b[0mmessage\u001b[0m \u001b[1;33m=\u001b[0m \u001b[0mcompat\u001b[0m\u001b[1;33m.\u001b[0m\u001b[0mas_text\u001b[0m\u001b[1;33m(\u001b[0m\u001b[0me\u001b[0m\u001b[1;33m.\u001b[0m\u001b[0mmessage\u001b[0m\u001b[1;33m)\u001b[0m\u001b[1;33m\u001b[0m\u001b[0m\n",
      "\u001b[1;32mE:\\ProgramFiles\\Anaconda\\lib\\site-packages\\tensorflow\\python\\client\\session.py\u001b[0m in \u001b[0;36m_run_fn\u001b[1;34m(session, feed_dict, fetch_list, target_list, options, run_metadata)\u001b[0m\n\u001b[0;32m   1338\u001b[0m         \u001b[1;32melse\u001b[0m\u001b[1;33m:\u001b[0m\u001b[1;33m\u001b[0m\u001b[0m\n\u001b[0;32m   1339\u001b[0m           return tf_session.TF_Run(session, options, feed_dict, fetch_list,\n\u001b[1;32m-> 1340\u001b[1;33m                                    target_list, status, run_metadata)\n\u001b[0m\u001b[0;32m   1341\u001b[0m \u001b[1;33m\u001b[0m\u001b[0m\n\u001b[0;32m   1342\u001b[0m     \u001b[1;32mdef\u001b[0m \u001b[0m_prun_fn\u001b[0m\u001b[1;33m(\u001b[0m\u001b[0msession\u001b[0m\u001b[1;33m,\u001b[0m \u001b[0mhandle\u001b[0m\u001b[1;33m,\u001b[0m \u001b[0mfeed_dict\u001b[0m\u001b[1;33m,\u001b[0m \u001b[0mfetch_list\u001b[0m\u001b[1;33m)\u001b[0m\u001b[1;33m:\u001b[0m\u001b[1;33m\u001b[0m\u001b[0m\n",
      "\u001b[1;31mKeyboardInterrupt\u001b[0m: "
     ]
    }
   ],
   "source": [
    "with tf.Session(graph=train_graph) as sess:\n",
    "\n",
    "    # Run the initializer\n",
    "    sess.run(init)\n",
    "    step = 0\n",
    "    for epoch in range(epochs):\n",
    "        for batch_x, batch_y in get_batches(train_x, train_y, batch_size):\n",
    "            step += 1\n",
    "            # Run optimization op (backprop)\n",
    "            sess.run(train_op, feed_dict={inputs_: batch_x, labels_: batch_y, keep_prob: 0.8})\n",
    "            if step % display_step == 0 or step == 1:\n",
    "                loss, acc, a = sess.run([loss_op, accuracy, alphas], feed_dict={inputs_: batch_x,\n",
    "                                                                    labels_: batch_y,\n",
    "                                                                    keep_prob: 0.8})\n",
    "                print(\"Step \" + str(step) + \", Minibatch Loss= \" + \\\n",
    "                    \"{:.4f}\".format(loss) + \", Training Accuracy= \" + \\\n",
    "                    \"{:.3f}\".format(acc), \", Testing Accuracy=\", \\\n",
    "                    sess.run(accuracy, feed_dict={inputs_: val_x[:5000,:], labels_: val_y[:5000,:], keep_prob:1}))\n",
    "        \n",
    "    prediction_step = 0\n",
    "    for batch_x, batch_y in get_batches(test_x, test_y, batch_size):\n",
    "        pred, a = sess.run([prediction, alphas], feed_dict={inputs_: batch_x,\n",
    "                                                                    labels_: batch_y,\n",
    "                                                                    keep_prob: 1})\n",
    "        key = key_words(batch_x,a)\n",
    "        prediction_step += 1\n",
    "        if prediction_step % display_step ==0 :print(\"Step:\" + str(prediction_step))\n",
    "        with open(\"output0.txt\",\"a\") as output:\n",
    "            for p,k in zip(pred,key):\n",
    "                label_pred = (\"positive\",\"negative\")[np.argmax(p)]\n",
    "                output.write('\\n'+label_pred+'\\t'+k)# Run the initializer\n",
    "\n",
    "    print(\"Prediction Finished!\")\n",
    "    saver.save(sess, \"checkpoints/sentiment.ckpt\")"
   ]
  },
  {
   "cell_type": "code",
   "execution_count": null,
   "metadata": {
    "collapsed": true
   },
   "outputs": [],
   "source": [
    "tf.reset_default_graph()"
   ]
  }
 ],
 "metadata": {
  "kernelspec": {
   "display_name": "Python 2",
   "language": "python",
   "name": "python2"
  },
  "language_info": {
   "codemirror_mode": {
    "name": "ipython",
    "version": 2
   },
   "file_extension": ".py",
   "mimetype": "text/x-python",
   "name": "python",
   "nbconvert_exporter": "python",
   "pygments_lexer": "ipython2",
   "version": "2.7.15"
  }
 },
 "nbformat": 4,
 "nbformat_minor": 2
}
